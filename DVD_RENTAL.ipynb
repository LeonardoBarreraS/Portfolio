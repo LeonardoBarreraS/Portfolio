{
 "cells": [
  {
   "cell_type": "code",
   "execution_count": 2,
   "id": "092e9457-2e83-4134-8417-5230a1507974",
   "metadata": {},
   "outputs": [
    {
     "name": "stdout",
     "output_type": "stream",
     "text": [
      "       amount  amount_2  length_2\n",
      "6682     2.99    8.9401    8100.0\n",
      "8908     4.99   24.9001    2809.0\n",
      "11827    6.99   48.8601   29241.0\n",
      "6153     2.99    8.9401    5329.0\n",
      "10713    5.99   35.8801   14884.0\n",
      "...       ...       ...       ...\n",
      "6200     1.99    3.9601   24649.0\n",
      "501      6.99   48.8601   18225.0\n",
      "6782     5.99   35.8801   31329.0\n",
      "4444     2.99    8.9401   28561.0\n",
      "8574     5.99   35.8801   27556.0\n",
      "\n",
      "[12688 rows x 3 columns]\n"
     ]
    },
    {
     "ename": "NameError",
     "evalue": "name 'plt' is not defined",
     "output_type": "error",
     "traceback": [
      "\u001b[1;31m---------------------------------------------------------------------------\u001b[0m",
      "\u001b[1;31mNameError\u001b[0m                                 Traceback (most recent call last)",
      "Cell \u001b[1;32mIn[2], line 62\u001b[0m\n\u001b[0;32m     58\u001b[0m X_lasso_train, X_lasso_test\u001b[38;5;241m=\u001b[39mX_train\u001b[38;5;241m.\u001b[39miloc[:,coef_values\u001b[38;5;241m>\u001b[39m\u001b[38;5;241m0\u001b[39m], X_test\u001b[38;5;241m.\u001b[39miloc[:,coef_values\u001b[38;5;241m>\u001b[39m\u001b[38;5;241m0\u001b[39m]\n\u001b[0;32m     60\u001b[0m \u001b[38;5;28mprint\u001b[39m(X_lasso_train)\n\u001b[1;32m---> 62\u001b[0m \u001b[43mplt\u001b[49m\u001b[38;5;241m.\u001b[39mbar(coef_names, coef_values)\n\u001b[0;32m     63\u001b[0m plt\u001b[38;5;241m.\u001b[39mxticks(rotation\u001b[38;5;241m=\u001b[39m\u001b[38;5;241m90\u001b[39m)\n\u001b[0;32m     64\u001b[0m plt\u001b[38;5;241m.\u001b[39mshow()\n",
      "\u001b[1;31mNameError\u001b[0m: name 'plt' is not defined"
     ]
    }
   ],
   "source": [
    "# Start your coding from below\n",
    "import pandas as pd\n",
    "import numpy as np\n",
    "\n",
    "from sklearn.model_selection import train_test_split\n",
    "from sklearn.metrics import mean_squared_error\n",
    "\n",
    "# For lasso\n",
    "from sklearn.linear_model import Lasso\n",
    "from sklearn.model_selection import train_test_split\n",
    "from sklearn.preprocessing import StandardScaler\n",
    "\n",
    "# Run OLS\n",
    "from sklearn.linear_model import LinearRegression\n",
    "from sklearn.metrics import mean_squared_error\n",
    "\n",
    "# Random forest\n",
    "from sklearn.ensemble import RandomForestRegressor\n",
    "from sklearn.model_selection import RandomizedSearchCV\n",
    "\n",
    "\n",
    "\n",
    "#1. Getting the number of rental days.\n",
    "\n",
    "df=pd.read_csv(\"C:/Users/Leonardo Barrera/OneDrive/Projects Data Science/dataset.json/rental_info.csv\")\n",
    "\n",
    "df[\"rental_date\"]=pd.to_datetime(df[\"rental_date\"])\n",
    "df[\"return_date\"]=pd.to_datetime(df[\"return_date\"])\n",
    "\n",
    "df[\"rental_lenght_days\"]=df[\"return_date\"]-df[\"rental_date\"]\n",
    "df[\"rental_lenght_days\"]=df[\"rental_lenght_days\"].dt.days\n",
    "\n",
    "df[\"special_features\"].value_counts()\n",
    "\n",
    "#2. Adding dummy variables using the special features column.\n",
    "\n",
    "df[\"deleted_scenes\"]=np.where(df[\"special_features\"].str.contains(\"Deleted Scenes\"),1,0)\n",
    "df[\"behind_the_scenes\"]=np.where(df[\"special_features\"].str.contains(\"Behind the Scenes\"),1,0)\n",
    "\n",
    "#3. Executing a train-test split\n",
    "\n",
    "cols_to_drop=[\"special_features\", \"rental_lenght_days\", \"rental_date\", \"return_date\"]\n",
    "X=df.drop(cols_to_drop, axis=1)\n",
    "y=df[\"rental_lenght_days\"]\n",
    "\n",
    "X_train, X_test, y_train, y_test=train_test_split(X,y,test_size=0.2, random_state=9)\n",
    "\n",
    "\n",
    "# 4. Performing feature selection\n",
    "lasso=Lasso(alpha=0.2, random_state=9)\n",
    "lasso.fit(X_train, y_train)\n",
    "\n",
    "coef_names=X.columns\n",
    "coef_values=lasso.coef_\n",
    "\n",
    "#print(X_train)\n",
    "\n",
    "X_lasso_train, X_lasso_test=X_train.iloc[:,coef_values>0], X_test.iloc[:,coef_values>0]\n",
    "\n",
    "print(X_lasso_train)\n",
    "\n",
    "plt.bar(coef_names, coef_values)\n",
    "plt.xticks(rotation=90)\n",
    "plt.show()\n",
    "\n"
   ]
  },
  {
   "cell_type": "code",
   "execution_count": null,
   "id": "eb75bbae-c12c-471e-a81b-08d65d8e9fda",
   "metadata": {},
   "outputs": [],
   "source": []
  },
  {
   "cell_type": "code",
   "execution_count": null,
   "id": "49bba387-4f0f-4eec-b8a3-63bff879c6dd",
   "metadata": {},
   "outputs": [],
   "source": []
  }
 ],
 "metadata": {
  "kernelspec": {
   "display_name": "Python 3 (ipykernel)",
   "language": "python",
   "name": "python3"
  },
  "language_info": {
   "codemirror_mode": {
    "name": "ipython",
    "version": 3
   },
   "file_extension": ".py",
   "mimetype": "text/x-python",
   "name": "python",
   "nbconvert_exporter": "python",
   "pygments_lexer": "ipython3",
   "version": "3.12.0"
  }
 },
 "nbformat": 4,
 "nbformat_minor": 5
}
