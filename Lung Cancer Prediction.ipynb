{
 "cells": [
  {
   "cell_type": "code",
   "execution_count": 1,
   "id": "643e7e79-82c3-451f-9fa0-9dd3d6b6f462",
   "metadata": {},
   "outputs": [],
   "source": [
    "import numpy as np\n",
    "import pandas as pd\n",
    "import matplotlib.pyplot as plt\n",
    "import seaborn as sns"
   ]
  },
  {
   "cell_type": "code",
   "execution_count": 2,
   "id": "90203042-0780-419b-bc56-05ba6b6afde3",
   "metadata": {},
   "outputs": [
    {
     "name": "stdout",
     "output_type": "stream",
     "text": [
      "<class 'pandas.core.frame.DataFrame'>\n",
      "RangeIndex: 3000 entries, 0 to 2999\n",
      "Data columns (total 16 columns):\n",
      " #   Column                 Non-Null Count  Dtype \n",
      "---  ------                 --------------  ----- \n",
      " 0   GENDER                 3000 non-null   object\n",
      " 1   AGE                    3000 non-null   int64 \n",
      " 2   SMOKING                3000 non-null   int64 \n",
      " 3   YELLOW_FINGERS         3000 non-null   int64 \n",
      " 4   ANXIETY                3000 non-null   int64 \n",
      " 5   PEER_PRESSURE          3000 non-null   int64 \n",
      " 6   CHRONIC_DISEASE        3000 non-null   int64 \n",
      " 7   FATIGUE                3000 non-null   int64 \n",
      " 8   ALLERGY                3000 non-null   int64 \n",
      " 9   WHEEZING               3000 non-null   int64 \n",
      " 10  ALCOHOL_CONSUMING      3000 non-null   int64 \n",
      " 11  COUGHING               3000 non-null   int64 \n",
      " 12  SHORTNESS_OF_BREATH    3000 non-null   int64 \n",
      " 13  SWALLOWING_DIFFICULTY  3000 non-null   int64 \n",
      " 14  CHEST_PAIN             3000 non-null   int64 \n",
      " 15  LUNG_CANCER            3000 non-null   object\n",
      "dtypes: int64(14), object(2)\n",
      "memory usage: 375.1+ KB\n"
     ]
    }
   ],
   "source": [
    "df=pd.read_json(\"C:/Users/Leonardo Barrera/OneDrive/Projects Data Science/dataset.json/dataset.json\")\n",
    "df.info()"
   ]
  },
  {
   "cell_type": "code",
   "execution_count": 3,
   "id": "db8d287d-dcb4-4aa6-b525-9dde958ea5df",
   "metadata": {},
   "outputs": [
    {
     "data": {
      "text/html": [
       "<div>\n",
       "<style scoped>\n",
       "    .dataframe tbody tr th:only-of-type {\n",
       "        vertical-align: middle;\n",
       "    }\n",
       "\n",
       "    .dataframe tbody tr th {\n",
       "        vertical-align: top;\n",
       "    }\n",
       "\n",
       "    .dataframe thead th {\n",
       "        text-align: right;\n",
       "    }\n",
       "</style>\n",
       "<table border=\"1\" class=\"dataframe\">\n",
       "  <thead>\n",
       "    <tr style=\"text-align: right;\">\n",
       "      <th></th>\n",
       "      <th>count</th>\n",
       "      <th>mean</th>\n",
       "      <th>std</th>\n",
       "      <th>min</th>\n",
       "      <th>25%</th>\n",
       "      <th>50%</th>\n",
       "      <th>75%</th>\n",
       "      <th>max</th>\n",
       "    </tr>\n",
       "  </thead>\n",
       "  <tbody>\n",
       "    <tr>\n",
       "      <th>AGE</th>\n",
       "      <td>3000.0</td>\n",
       "      <td>55.169000</td>\n",
       "      <td>14.723746</td>\n",
       "      <td>30.0</td>\n",
       "      <td>42.0</td>\n",
       "      <td>55.0</td>\n",
       "      <td>68.0</td>\n",
       "      <td>80.0</td>\n",
       "    </tr>\n",
       "    <tr>\n",
       "      <th>SMOKING</th>\n",
       "      <td>3000.0</td>\n",
       "      <td>1.491000</td>\n",
       "      <td>0.500002</td>\n",
       "      <td>1.0</td>\n",
       "      <td>1.0</td>\n",
       "      <td>1.0</td>\n",
       "      <td>2.0</td>\n",
       "      <td>2.0</td>\n",
       "    </tr>\n",
       "    <tr>\n",
       "      <th>YELLOW_FINGERS</th>\n",
       "      <td>3000.0</td>\n",
       "      <td>1.514000</td>\n",
       "      <td>0.499887</td>\n",
       "      <td>1.0</td>\n",
       "      <td>1.0</td>\n",
       "      <td>2.0</td>\n",
       "      <td>2.0</td>\n",
       "      <td>2.0</td>\n",
       "    </tr>\n",
       "    <tr>\n",
       "      <th>ANXIETY</th>\n",
       "      <td>3000.0</td>\n",
       "      <td>1.494000</td>\n",
       "      <td>0.500047</td>\n",
       "      <td>1.0</td>\n",
       "      <td>1.0</td>\n",
       "      <td>1.0</td>\n",
       "      <td>2.0</td>\n",
       "      <td>2.0</td>\n",
       "    </tr>\n",
       "    <tr>\n",
       "      <th>PEER_PRESSURE</th>\n",
       "      <td>3000.0</td>\n",
       "      <td>1.499000</td>\n",
       "      <td>0.500082</td>\n",
       "      <td>1.0</td>\n",
       "      <td>1.0</td>\n",
       "      <td>1.0</td>\n",
       "      <td>2.0</td>\n",
       "      <td>2.0</td>\n",
       "    </tr>\n",
       "    <tr>\n",
       "      <th>CHRONIC_DISEASE</th>\n",
       "      <td>3000.0</td>\n",
       "      <td>1.509667</td>\n",
       "      <td>0.499990</td>\n",
       "      <td>1.0</td>\n",
       "      <td>1.0</td>\n",
       "      <td>2.0</td>\n",
       "      <td>2.0</td>\n",
       "      <td>2.0</td>\n",
       "    </tr>\n",
       "    <tr>\n",
       "      <th>FATIGUE</th>\n",
       "      <td>3000.0</td>\n",
       "      <td>1.489667</td>\n",
       "      <td>0.499977</td>\n",
       "      <td>1.0</td>\n",
       "      <td>1.0</td>\n",
       "      <td>1.0</td>\n",
       "      <td>2.0</td>\n",
       "      <td>2.0</td>\n",
       "    </tr>\n",
       "    <tr>\n",
       "      <th>ALLERGY</th>\n",
       "      <td>3000.0</td>\n",
       "      <td>1.506667</td>\n",
       "      <td>0.500039</td>\n",
       "      <td>1.0</td>\n",
       "      <td>1.0</td>\n",
       "      <td>2.0</td>\n",
       "      <td>2.0</td>\n",
       "      <td>2.0</td>\n",
       "    </tr>\n",
       "    <tr>\n",
       "      <th>WHEEZING</th>\n",
       "      <td>3000.0</td>\n",
       "      <td>1.497333</td>\n",
       "      <td>0.500076</td>\n",
       "      <td>1.0</td>\n",
       "      <td>1.0</td>\n",
       "      <td>1.0</td>\n",
       "      <td>2.0</td>\n",
       "      <td>2.0</td>\n",
       "    </tr>\n",
       "    <tr>\n",
       "      <th>ALCOHOL_CONSUMING</th>\n",
       "      <td>3000.0</td>\n",
       "      <td>1.491333</td>\n",
       "      <td>0.500008</td>\n",
       "      <td>1.0</td>\n",
       "      <td>1.0</td>\n",
       "      <td>1.0</td>\n",
       "      <td>2.0</td>\n",
       "      <td>2.0</td>\n",
       "    </tr>\n",
       "    <tr>\n",
       "      <th>COUGHING</th>\n",
       "      <td>3000.0</td>\n",
       "      <td>1.510667</td>\n",
       "      <td>0.499970</td>\n",
       "      <td>1.0</td>\n",
       "      <td>1.0</td>\n",
       "      <td>2.0</td>\n",
       "      <td>2.0</td>\n",
       "      <td>2.0</td>\n",
       "    </tr>\n",
       "    <tr>\n",
       "      <th>SHORTNESS_OF_BREATH</th>\n",
       "      <td>3000.0</td>\n",
       "      <td>1.488000</td>\n",
       "      <td>0.499939</td>\n",
       "      <td>1.0</td>\n",
       "      <td>1.0</td>\n",
       "      <td>1.0</td>\n",
       "      <td>2.0</td>\n",
       "      <td>2.0</td>\n",
       "    </tr>\n",
       "    <tr>\n",
       "      <th>SWALLOWING_DIFFICULTY</th>\n",
       "      <td>3000.0</td>\n",
       "      <td>1.489667</td>\n",
       "      <td>0.499977</td>\n",
       "      <td>1.0</td>\n",
       "      <td>1.0</td>\n",
       "      <td>1.0</td>\n",
       "      <td>2.0</td>\n",
       "      <td>2.0</td>\n",
       "    </tr>\n",
       "    <tr>\n",
       "      <th>CHEST_PAIN</th>\n",
       "      <td>3000.0</td>\n",
       "      <td>1.498667</td>\n",
       "      <td>0.500082</td>\n",
       "      <td>1.0</td>\n",
       "      <td>1.0</td>\n",
       "      <td>1.0</td>\n",
       "      <td>2.0</td>\n",
       "      <td>2.0</td>\n",
       "    </tr>\n",
       "  </tbody>\n",
       "</table>\n",
       "</div>"
      ],
      "text/plain": [
       "                        count       mean        std   min   25%   50%   75%  \\\n",
       "AGE                    3000.0  55.169000  14.723746  30.0  42.0  55.0  68.0   \n",
       "SMOKING                3000.0   1.491000   0.500002   1.0   1.0   1.0   2.0   \n",
       "YELLOW_FINGERS         3000.0   1.514000   0.499887   1.0   1.0   2.0   2.0   \n",
       "ANXIETY                3000.0   1.494000   0.500047   1.0   1.0   1.0   2.0   \n",
       "PEER_PRESSURE          3000.0   1.499000   0.500082   1.0   1.0   1.0   2.0   \n",
       "CHRONIC_DISEASE        3000.0   1.509667   0.499990   1.0   1.0   2.0   2.0   \n",
       "FATIGUE                3000.0   1.489667   0.499977   1.0   1.0   1.0   2.0   \n",
       "ALLERGY                3000.0   1.506667   0.500039   1.0   1.0   2.0   2.0   \n",
       "WHEEZING               3000.0   1.497333   0.500076   1.0   1.0   1.0   2.0   \n",
       "ALCOHOL_CONSUMING      3000.0   1.491333   0.500008   1.0   1.0   1.0   2.0   \n",
       "COUGHING               3000.0   1.510667   0.499970   1.0   1.0   2.0   2.0   \n",
       "SHORTNESS_OF_BREATH    3000.0   1.488000   0.499939   1.0   1.0   1.0   2.0   \n",
       "SWALLOWING_DIFFICULTY  3000.0   1.489667   0.499977   1.0   1.0   1.0   2.0   \n",
       "CHEST_PAIN             3000.0   1.498667   0.500082   1.0   1.0   1.0   2.0   \n",
       "\n",
       "                        max  \n",
       "AGE                    80.0  \n",
       "SMOKING                 2.0  \n",
       "YELLOW_FINGERS          2.0  \n",
       "ANXIETY                 2.0  \n",
       "PEER_PRESSURE           2.0  \n",
       "CHRONIC_DISEASE         2.0  \n",
       "FATIGUE                 2.0  \n",
       "ALLERGY                 2.0  \n",
       "WHEEZING                2.0  \n",
       "ALCOHOL_CONSUMING       2.0  \n",
       "COUGHING                2.0  \n",
       "SHORTNESS_OF_BREATH     2.0  \n",
       "SWALLOWING_DIFFICULTY   2.0  \n",
       "CHEST_PAIN              2.0  "
      ]
     },
     "execution_count": 3,
     "metadata": {},
     "output_type": "execute_result"
    }
   ],
   "source": [
    "df.describe().T"
   ]
  },
  {
   "cell_type": "code",
   "execution_count": 5,
   "id": "88404742-729a-4423-8d49-f593f2601568",
   "metadata": {},
   "outputs": [
    {
     "name": "stdout",
     "output_type": "stream",
     "text": [
      "Number of duplicate records: 2\n"
     ]
    }
   ],
   "source": [
    "# Counting the number of duplicates\n",
    "num_duplicates=df.duplicated().sum()\n",
    "print(f'Number of duplicate records: {num_duplicates}')"
   ]
  },
  {
   "cell_type": "code",
   "execution_count": 6,
   "id": "b0522382-9de0-4e4f-9572-8afbf7cae8cc",
   "metadata": {},
   "outputs": [
    {
     "name": "stdout",
     "output_type": "stream",
     "text": [
      "Lengh before dropping duplicates: 3000\n",
      "Lengh after dropping duplicates: 2998\n"
     ]
    }
   ],
   "source": [
    "#Handling duplicates\n",
    "print(f'Lengh before dropping duplicates: {len(df)}')\n",
    "df2=df.drop_duplicates()\n",
    "print(f'Lengh after dropping duplicates: {len(df2)}')"
   ]
  },
  {
   "cell_type": "code",
   "execution_count": 5,
   "id": "e9e383e2-6956-4020-8743-bf9d4be5351d",
   "metadata": {},
   "outputs": [
    {
     "ename": "NameError",
     "evalue": "name 'df2' is not defined",
     "output_type": "error",
     "traceback": [
      "\u001b[1;31m---------------------------------------------------------------------------\u001b[0m",
      "\u001b[1;31mNameError\u001b[0m                                 Traceback (most recent call last)",
      "Cell \u001b[1;32mIn[5], line 3\u001b[0m\n\u001b[0;32m      1\u001b[0m \u001b[38;5;66;03m#Convert categorical data to numerical \u001b[39;00m\n\u001b[1;32m----> 3\u001b[0m df_encoded\u001b[38;5;241m=\u001b[39mpd\u001b[38;5;241m.\u001b[39mget_dummies(\u001b[43mdf2\u001b[49m, drop_first\u001b[38;5;241m=\u001b[39m\u001b[38;5;28;01mTrue\u001b[39;00m)\n\u001b[0;32m      5\u001b[0m \u001b[38;5;66;03m#Calculate correlation matrix\u001b[39;00m\n\u001b[0;32m      6\u001b[0m corr_matrix\u001b[38;5;241m=\u001b[39mdf_encoded\u001b[38;5;241m.\u001b[39mcorr()\n",
      "\u001b[1;31mNameError\u001b[0m: name 'df2' is not defined"
     ]
    }
   ],
   "source": [
    "#Convert categorical data to numerical \n",
    "\n",
    "df_encoded=pd.get_dummies(df2, drop_first=True)\n",
    "\n",
    "#Calculate correlation matrix\n",
    "corr_matrix=df_encoded.corr()\n",
    "\n",
    "#Create the Heatmap\n",
    "plt.figure(figsize=(10,8))\n",
    "sns.heatmap(corr_matrix, annot=True, cmap=\"cividis\", fmt=\".2f\", linewidths=0.5)\n",
    "plt.title(\"Correlation Heatmap\")\n",
    "plt.show()\n"
   ]
  },
  {
   "cell_type": "code",
   "execution_count": 49,
   "id": "692c3e90-ee4c-4ae8-ac08-7b1b10ee312e",
   "metadata": {},
   "outputs": [
    {
     "data": {
      "image/png": "[encoded data removed]",
      "text/plain": [
       "<Figure size 640x480 with 1 Axes>"
      ]
     },
     "metadata": {},
     "output_type": "display_data"
    },
    {
     "data": {
      "image/png": "[encoded data removed]",
      "text/plain": [
       "<Figure size 640x480 with 1 Axes>"
      ]
     },
     "metadata": {},
     "output_type": "display_data"
    }
   ],
   "source": [
    "#Positive cases by Gender\n",
    "for x in df[\"GENDER\"].unique():\n",
    "    plt.figure()\n",
    "    sns.histplot(df.loc[(df[\"GENDER\"]==x) & (df[\"LUNG_CANCER\"]==\"YES\")][\"AGE\"], kde=True, bins=20)\n",
    "    plt.title(f'Positive Cases by Age and Gender :{x}')\n",
    "    plt.xlabel(\"Age\")\n",
    "    plt.ylabel(\"Frequency\")\n",
    "    plt.show()\n"
   ]
  },
  {
   "cell_type": "code",
   "execution_count": null,
   "id": "091aefc5-8b9d-4c77-a407-03415144dd29",
   "metadata": {},
   "outputs": [],
   "source": []
  }
 ],
 "metadata": {
  "kernelspec": {
   "display_name": "Python 3 (ipykernel)",
   "language": "python",
   "name": "python3"
  },
  "language_info": {
   "codemirror_mode": {
    "name": "ipython",
    "version": 3
   },
   "file_extension": ".py",
   "mimetype": "text/x-python",
   "name": "python",
   "nbconvert_exporter": "python",
   "pygments_lexer": "ipython3",
   "version": "3.12.0"
  }
 },
 "nbformat": 4,
 "nbformat_minor": 5
}
